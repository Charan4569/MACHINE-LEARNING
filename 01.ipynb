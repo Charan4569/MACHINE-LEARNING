{
  "nbformat": 4,
  "nbformat_minor": 0,
  "metadata": {
    "colab": {
      "provenance": []
    },
    "kernelspec": {
      "name": "python3",
      "display_name": "Python 3"
    },
    "language_info": {
      "name": "python"
    }
  },
  "cells": [
    {
      "cell_type": "code",
      "execution_count": 11,
      "metadata": {
        "colab": {
          "base_uri": "https://localhost:8080/"
        },
        "id": "W5TJJDk4BF1n",
        "outputId": "4d9054c3-91af-47d0-f1c5-686bb549554f"
      },
      "outputs": [
        {
          "output_type": "stream",
          "name": "stdout",
          "text": [
            "Empty Array:\n",
            "[[4.9e-324 9.9e-324 1.5e-323]\n",
            " [1.5e-323 2.5e-323 3.0e-323]\n",
            " [3.5e-323 3.5e-323 4.9e-323]]\n",
            "\n",
            "Full Array:\n",
            "[[5 5 5]\n",
            " [5 5 5]\n",
            " [5 5 5]]\n"
          ]
        }
      ],
      "source": [
        "#1. Create an empty and a full array of size 3x3.\n",
        "import numpy as np\n",
        "\n",
        "# Create an empty array of size 3x3\n",
        "empty_array = np.empty((3, 3))\n",
        "\n",
        "# Create a full array of size 3x3 with a specific value (let's say 5)\n",
        "full_array = np.full((3, 3), 5)\n",
        "\n",
        "print(\"Empty Array:\")\n",
        "print(empty_array)\n",
        "\n",
        "print(\"\\nFull Array:\")\n",
        "print(full_array)\n"
      ]
    },
    {
      "cell_type": "code",
      "source": [
        "# 2. Generate an array of 25 random numbers sampled from a standard normal\n",
        "# distribution.\n",
        "import numpy as np\n",
        "\n",
        "# Generate an array of 25 random numbers sampled from a standard normal distribution\n",
        "random_array = np.random.randn(25)\n",
        "\n",
        "print(\"Random Array:\")\n",
        "print(random_array)\n"
      ],
      "metadata": {
        "colab": {
          "base_uri": "https://localhost:8080/"
        },
        "id": "cXOPfFTJESsA",
        "outputId": "89eb7117-86e8-4fd1-ccc2-a3ffe186c5dd"
      },
      "execution_count": 12,
      "outputs": [
        {
          "output_type": "stream",
          "name": "stdout",
          "text": [
            "Random Array:\n",
            "[-1.15144837 -1.04578507  1.22810488  0.77729475 -0.17855145 -0.22496744\n",
            " -0.47014478 -1.10272594  1.22438476 -0.36409587  0.58717    -0.79152903\n",
            "  0.19705521 -1.08291834  0.86359958  0.70476542 -0.33274607  0.81149727\n",
            "  0.70590309 -0.13955614 -0.14202616  0.81934923 -2.01005831  1.17116749\n",
            " -1.02842179]\n"
          ]
        }
      ]
    },
    {
      "cell_type": "code",
      "source": [
        "#3. Find Dot product of two arrays.\n",
        "import numpy as np\n",
        "\n",
        "# Create two arrays\n",
        "array1 = np.array([1, 2, 3])\n",
        "array2 = np.array([4, 5, 6])\n",
        "\n",
        "# Find the dot product\n",
        "dot_product = np.dot(array1, array2)\n",
        "\n",
        "print(\"Dot Product:\", dot_product)\n"
      ],
      "metadata": {
        "colab": {
          "base_uri": "https://localhost:8080/"
        },
        "id": "11XY41J4EsdL",
        "outputId": "ccf55346-a8fc-4586-a29e-cffada007197"
      },
      "execution_count": 13,
      "outputs": [
        {
          "output_type": "stream",
          "name": "stdout",
          "text": [
            "Dot Product: 32\n"
          ]
        }
      ]
    },
    {
      "cell_type": "code",
      "source": [
        "#4. Sort the below array along the row, along the column and as a whole.\n",
        "# [3, 7, 1]\n",
        "# [10, 3, 2]\n",
        "# [5, 6, 7]\n",
        "\n",
        "import numpy as np\n",
        "\n",
        "# Create the array\n",
        "array = np.array([[3, 7, 1],\n",
        "                  [10, 3, 2],\n",
        "                  [5, 6, 7]])\n",
        "\n",
        "# Sort along the row (axis=1)\n",
        "sorted_row = np.sort(array, axis=1)\n",
        "\n",
        "# Sort along the column (axis=0)\n",
        "sorted_column = np.sort(array, axis=0)\n",
        "\n",
        "# Sort the array as a whole\n",
        "sorted_whole = np.sort(array, axis=None)\n",
        "\n",
        "print(\"Sorted along the row:\")\n",
        "print(sorted_row)\n",
        "\n",
        "print(\"\\nSorted along the column:\")\n",
        "print(sorted_column)\n",
        "\n",
        "print(\"\\nSorted as a whole:\")\n",
        "print(sorted_whole)\n"
      ],
      "metadata": {
        "colab": {
          "base_uri": "https://localhost:8080/"
        },
        "id": "CRAX86npE-hA",
        "outputId": "7976d94b-f816-48a9-a585-12aa65ab5851"
      },
      "execution_count": 14,
      "outputs": [
        {
          "output_type": "stream",
          "name": "stdout",
          "text": [
            "Sorted along the row:\n",
            "[[ 1  3  7]\n",
            " [ 2  3 10]\n",
            " [ 5  6  7]]\n",
            "\n",
            "Sorted along the column:\n",
            "[[ 3  3  1]\n",
            " [ 5  6  2]\n",
            " [10  7  7]]\n",
            "\n",
            "Sorted as a whole:\n",
            "[ 1  2  3  3  5  6  7  7 10]\n"
          ]
        }
      ]
    },
    {
      "cell_type": "code",
      "source": [
        "# 5. Make a list of 3 numpy arrays and find the mean of all the numpy arrays and output\n",
        "# them as a list.\n",
        "import numpy as np\n",
        "\n",
        "# Create a list of 3 NumPy arrays\n",
        "array1 = np.array([1, 2, 3])\n",
        "array2 = np.array([4, 5, 6])\n",
        "array3 = np.array([7, 8, 9])\n",
        "\n",
        "array_list = [array1, array2, array3]\n",
        "\n",
        "# Calculate the mean of each array\n",
        "mean_list = [np.mean(arr) for arr in array_list]\n",
        "\n",
        "print(\"List of Arrays:\")\n",
        "for i, arr in enumerate(array_list, start=1):\n",
        "    print(f\"Array {i}:\", arr)\n",
        "\n",
        "print(\"\\nMean of Each Array:\")\n",
        "for i, mean in enumerate(mean_list, start=1):\n",
        "    print(f\"Array {i} Mean:\", mean)\n"
      ],
      "metadata": {
        "colab": {
          "base_uri": "https://localhost:8080/"
        },
        "id": "6_hf3teVGayw",
        "outputId": "e26ad334-8f49-4f7b-a7cf-70607fc4f48f"
      },
      "execution_count": 15,
      "outputs": [
        {
          "output_type": "stream",
          "name": "stdout",
          "text": [
            "List of Arrays:\n",
            "Array 1: [1 2 3]\n",
            "Array 2: [4 5 6]\n",
            "Array 3: [7 8 9]\n",
            "\n",
            "Mean of Each Array:\n",
            "Array 1 Mean: 2.0\n",
            "Array 2 Mean: 5.0\n",
            "Array 3 Mean: 8.0\n"
          ]
        }
      ]
    },
    {
      "cell_type": "code",
      "source": [
        "# 6. Make a numpy array containing the string 'PHP C# Python C Java C++' as the only\n",
        "# element, then split it on the basis of spaces\n",
        "import numpy as np\n",
        "\n",
        "# Create a numpy array with a single string element\n",
        "string_array = np.array(['PHP C# Python C Java C++'])\n",
        "\n",
        "# Split the string on spaces\n",
        "split_result = np.char.split(string_array)\n",
        "\n",
        "# Access the split result as a list\n",
        "split_list = split_result[0]\n",
        "\n",
        "print(\"Original String Array:\")\n",
        "print(string_array)\n",
        "\n",
        "print(\"\\nSplit Result as a List:\")\n",
        "print(split_list)\n"
      ],
      "metadata": {
        "colab": {
          "base_uri": "https://localhost:8080/"
        },
        "id": "TPwQHU12IvLe",
        "outputId": "ae95941b-df9a-4e30-9924-bfdd6d00610f"
      },
      "execution_count": 16,
      "outputs": [
        {
          "output_type": "stream",
          "name": "stdout",
          "text": [
            "Original String Array:\n",
            "['PHP C# Python C Java C++']\n",
            "\n",
            "Split Result as a List:\n",
            "['PHP', 'C#', 'Python', 'C', 'Java', 'C++']\n"
          ]
        }
      ]
    }
  ]
}